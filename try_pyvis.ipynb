{
 "cells": [
  {
   "cell_type": "code",
   "execution_count": 10,
   "metadata": {},
   "outputs": [],
   "source": [
    "import pyvis\n"
   ]
  },
  {
   "cell_type": "code",
   "execution_count": 38,
   "metadata": {},
   "outputs": [],
   "source": [
    "with open(\"test.html\", \"r\") as f:\n",
    "    html = f.read()"
   ]
  },
  {
   "cell_type": "code",
   "execution_count": 45,
   "metadata": {
    "scrolled": false
   },
   "outputs": [],
   "source": [
    "net = pyvis.network.Network(width=\"100%\", height=\"95%\")\n",
    "net.add_node(0, label=\"load\", title=None, shape=\"box\", x=0, y=0)\n",
    "net.add_node(1, label=\"raw data\", title=\"I live in the memory\", shape=\"database\", x=-200, y=50, color=\"red\")\n",
    "net.add_node(2, label=\"filter\", title=\"I filter the raw data<br><br><br>nwith enough space\", shape=\"box\", x=0, y=100)\n",
    "net.add_node(3, label=\"merge with raw\", title=\"I merge with raw\", shape=\"box\", x=0, y=200)\n",
    "\n",
    "net.add_edge(0, 1)\n",
    "net.add_edge(0, 2)\n",
    "net.add_edge(1, 3)\n",
    "net.add_edge(2, 3)\n",
    "\n",
    "\n",
    "net.set_options(\"\"\"\n",
    "var options = {\n",
    "  \"nodes\": {\n",
    "    \"fixed\": {\n",
    "      \"x\": true,\n",
    "      \"y\": true\n",
    "    }\n",
    "  },\n",
    "  \"edges\": {\n",
    "    \"arrows\": {\n",
    "      \"to\": {\n",
    "        \"enabled\": true,\n",
    "        \"scaleFactor\": 0.45\n",
    "      }\n",
    "    },\n",
    "    \"arrowStrikethrough\": true,\n",
    "    \"color\": {\n",
    "      \"inherit\": true\n",
    "    },\n",
    "    \"smooth\": {\n",
    "      \"type\": \"cubicBezier\",\n",
    "      \"forceDirection\": \"horizontal\",\n",
    "      \"roundness\": 0.65\n",
    "    }\n",
    "  },\n",
    "  \"interaction\": {\n",
    "    \"dragNodes\": false,\n",
    "    \"hover\": true,\n",
    "    \"navigationButtons\": true,\n",
    "    \"zoomView\": false\n",
    "  },\n",
    "  \"physics\": {\n",
    "    \"enabled\": false,\n",
    "    \"minVelocity\": 0.75\n",
    "  }\n",
    "}\n",
    "\"\"\")\n",
    "\n",
    "\n",
    "#net.show_buttons(filter_=True)\n",
    "net.show(\"delete_me.html\")"
   ]
  },
  {
   "cell_type": "code",
   "execution_count": null,
   "metadata": {},
   "outputs": [],
   "source": []
  }
 ],
 "metadata": {
  "interpreter": {
   "hash": "6768b3d59b421300afb256ee20c7228f8668c8ef6972863c8e1f9b7315bd5556"
  },
  "kernelspec": {
   "display_name": "Python 3 (ipykernel)",
   "language": "python",
   "name": "python3"
  },
  "language_info": {
   "codemirror_mode": {
    "name": "ipython",
    "version": 3
   },
   "file_extension": ".py",
   "mimetype": "text/x-python",
   "name": "python",
   "nbconvert_exporter": "python",
   "pygments_lexer": "ipython3",
   "version": "3.7.11"
  }
 },
 "nbformat": 4,
 "nbformat_minor": 2
}
